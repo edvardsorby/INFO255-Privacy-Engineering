{
  "cells": [
    {
      "cell_type": "markdown",
      "id": "de5118bd",
      "metadata": {
        "id": "de5118bd"
      },
      "source": [
        "### Imports"
      ]
    },
    {
      "cell_type": "code",
      "execution_count": null,
      "id": "b6092979",
      "metadata": {
        "id": "b6092979"
      },
      "outputs": [],
      "source": [
        "import torch\n",
        "from torchvision import datasets, transforms\n",
        "import numpy as np\n",
        "import pandas as pd\n",
        "from opacus import PrivacyEngine\n",
        "import seaborn as sns\n",
        "import time\n",
        "from tqdm import tqdm\n",
        "from sklearn.metrics import accuracy_score, precision_score, recall_score, f1_score\n",
        "\n",
        "# To run in Google Colab\n",
        "import os\n",
        "from google.colab import drive"
      ]
    },
    {
      "cell_type": "markdown",
      "id": "192686f5",
      "metadata": {
        "id": "192686f5"
      },
      "source": [
        "### Data"
      ]
    },
    {
      "cell_type": "code",
      "execution_count": null,
      "id": "9482242f",
      "metadata": {
        "colab": {
          "base_uri": "https://localhost:8080/"
        },
        "id": "9482242f",
        "outputId": "d28d13f9-8700-4780-bf08-978a4daf8d99"
      },
      "outputs": [
        {
          "name": "stderr",
          "output_type": "stream",
          "text": [
            "100%|██████████| 9.91M/9.91M [00:00<00:00, 18.7MB/s]\n",
            "100%|██████████| 28.9k/28.9k [00:00<00:00, 602kB/s]\n",
            "100%|██████████| 1.65M/1.65M [00:00<00:00, 5.57MB/s]\n",
            "100%|██████████| 4.54k/4.54k [00:00<00:00, 4.76MB/s]\n"
          ]
        }
      ],
      "source": [
        "train_loader = torch.utils.data.DataLoader(datasets.MNIST('../mnist', train=True, download=True,\n",
        "               transform=transforms.Compose([transforms.ToTensor(), transforms.Normalize((0.1307,),\n",
        "               (0.3081,)),]),), batch_size=64, shuffle=True, num_workers=1, pin_memory=True)\n",
        "\n",
        "test_loader = torch.utils.data.DataLoader(datasets.MNIST('../mnist', train=False,\n",
        "              transform=transforms.Compose([transforms.ToTensor(), transforms.Normalize((0.1307,),\n",
        "              (0.3081,)),]),), batch_size=256, shuffle=True, num_workers=1, pin_memory=True)"
      ]
    },
    {
      "cell_type": "markdown",
      "id": "6ac457ff",
      "metadata": {
        "id": "6ac457ff"
      },
      "source": [
        "### Pytorch module"
      ]
    },
    {
      "cell_type": "code",
      "execution_count": null,
      "id": "3cb042ed",
      "metadata": {
        "id": "3cb042ed"
      },
      "outputs": [],
      "source": [
        "device = torch.device(\"cuda\" if torch.cuda.is_available() else \"cpu\")\n",
        "base_model = torch.nn.Sequential(torch.nn.Conv2d(1, 16, 8, 2, padding=3), torch.nn.ReLU(), torch.nn.MaxPool2d(2, 1),\n",
        "        torch.nn.Conv2d(16, 32, 4, 2),  torch.nn.ReLU(), torch.nn.MaxPool2d(2, 1), torch.nn.Flatten(),\n",
        "        torch.nn.Linear(32 * 4 * 4, 32), torch.nn.ReLU(), torch.nn.Linear(32, 10)).to(device)\n",
        "\n",
        "optimizer = torch.optim.SGD(base_model.parameters(), lr=0.05)"
      ]
    },
    {
      "cell_type": "markdown",
      "id": "bf33506d",
      "metadata": {
        "id": "bf33506d"
      },
      "source": [
        "### Pytorch module"
      ]
    },
    {
      "cell_type": "code",
      "execution_count": null,
      "id": "67b28f84",
      "metadata": {
        "colab": {
          "base_uri": "https://localhost:8080/"
        },
        "id": "67b28f84",
        "outputId": "8e9c7532-ebf1-46b7-8417-d77a342c66fb"
      },
      "outputs": [
        {
          "name": "stderr",
          "output_type": "stream",
          "text": [
            "/usr/local/lib/python3.11/dist-packages/opacus/privacy_engine.py:96: UserWarning: Secure RNG turned off. This is perfectly fine for experimentation as it allows for much faster training performance, but remember to turn it on and retrain one last time before production with ``secure_mode`` turned on.\n",
            "  warnings.warn(\n"
          ]
        }
      ],
      "source": [
        "privacy_engine = PrivacyEngine()\n",
        "model, optimizer, data_loader = privacy_engine.make_private(\n",
        "    module=base_model,\n",
        "    optimizer=optimizer,\n",
        "    data_loader=train_loader,\n",
        "    noise_multiplier=1.1, # How much noise the model takes\n",
        "    max_grad_norm=1.0, # How much clipping the model does\n",
        ")"
      ]
    },
    {
      "cell_type": "markdown",
      "id": "cb82fcfd",
      "metadata": {
        "id": "cb82fcfd"
      },
      "source": [
        "### Train loop"
      ]
    },
    {
      "cell_type": "code",
      "execution_count": null,
      "id": "30da68c3",
      "metadata": {
        "id": "30da68c3"
      },
      "outputs": [],
      "source": [
        "def train_opacus(model, pe, train_loader, optimizer, epoch, device, delta):\n",
        "    model.train()\n",
        "    criterion = torch.nn.CrossEntropyLoss()\n",
        "    losses = []\n",
        "    for _batch_idx, (data, target) in enumerate(tqdm(train_loader)):\n",
        "        data, target = data.to(device), target.to(device)\n",
        "        optimizer.zero_grad()\n",
        "        output = model(data)\n",
        "        loss = criterion(output, target)\n",
        "        loss.backward()\n",
        "        optimizer.step()\n",
        "        losses.append(loss.item())\n",
        "    epsilon = pe.get_epsilon(delta)\n",
        "    print(\n",
        "        f\"Train Epoch: {epoch} t\"\n",
        "        f\"Loss: {np.mean(losses):.6f} \"\n",
        "        f\"(ε = {epsilon:.2f}, δ = {delta})\")\n",
        "    return epsilon, losses\n",
        "\n",
        "def train(model, train_loader, optimizer, epoch, device):\n",
        "    model.train()\n",
        "    criterion = torch.nn.CrossEntropyLoss()\n",
        "    losses = []\n",
        "    for _batch_idx, (data, target) in enumerate(tqdm(train_loader)):\n",
        "        data, target = data.to(device), target.to(device)\n",
        "        optimizer.zero_grad()\n",
        "        output = model(data)\n",
        "        loss = criterion(output, target)\n",
        "        loss.backward()\n",
        "        optimizer.step()\n",
        "        losses.append(loss.item())\n",
        "    return losses"
      ]
    },
    {
      "cell_type": "markdown",
      "id": "397c8990",
      "metadata": {
        "id": "397c8990"
      },
      "source": [
        "### Main"
      ]
    },
    {
      "cell_type": "code",
      "execution_count": null,
      "id": "ac8f7927",
      "metadata": {
        "id": "ac8f7927"
      },
      "outputs": [],
      "source": [
        "def measure_model(model,pe, train_loader, optimizer, device):\n",
        "    epsilon = []\n",
        "    loss = []\n",
        "    times = []\n",
        "    for epoch in range(1, 11):\n",
        "        t0 = time.perf_counter()\n",
        "        eps, losses = train_opacus(model, pe,train_loader, optimizer, epoch, device=device, delta=1e-5)\n",
        "        dt = time.perf_counter() - t0\n",
        "        times.append(dt)\n",
        "        epsilon.append(eps)\n",
        "        loss.append(losses)\n",
        "    return epsilon, loss, times"
      ]
    },
    {
      "cell_type": "markdown",
      "id": "GGC10QR94mWY",
      "metadata": {
        "id": "GGC10QR94mWY"
      },
      "source": [
        "### Measurement"
      ]
    },
    {
      "cell_type": "code",
      "execution_count": null,
      "id": "UBVA1UKT4oE5",
      "metadata": {
        "id": "UBVA1UKT4oE5"
      },
      "outputs": [],
      "source": [
        "def validate(model, data_loader, device=torch.device('cpu'), target=None):\n",
        "    \"\"\"\n",
        "    Given a model and data loader, compute precision, recall, accuracy & F1.\n",
        "    If `target` is None, runs in multiclass mode (macro‐averaged).\n",
        "    Otherwise does binary‐on‐`target`.\n",
        "    \"\"\"\n",
        "    model.eval()\n",
        "    y_true, y_pred = [], []\n",
        "\n",
        "    with torch.no_grad():\n",
        "        for x, y in data_loader:\n",
        "            x, y = x.to(device), y.to(device)\n",
        "            logits = model(x)\n",
        "            preds = logits.argmax(dim=1)\n",
        "            y_true.extend(y.cpu().numpy())\n",
        "            y_pred.extend(preds.cpu().numpy())\n",
        "\n",
        "    if target is not None:\n",
        "        y_true = [1 if y==target else 0 for y in y_true]\n",
        "        y_pred = [1 if p==target else 0 for p in y_pred]\n",
        "        average = 'binary'\n",
        "        pos_label = 1\n",
        "    else:\n",
        "        average = 'macro'\n",
        "        pos_label = None\n",
        "\n",
        "    measures = [\"accuracy\", \"precision\", \"recall\", \"f1-score\"]\n",
        "    acc   = accuracy_score(y_true, y_pred)\n",
        "    prec  = precision_score(y_true, y_pred, average=average, pos_label=pos_label, zero_division=0)\n",
        "    rec   = recall_score(y_true, y_pred, average=average, pos_label=pos_label, zero_division=0)\n",
        "    f1    = f1_score(y_true, y_pred, average=average, pos_label=pos_label, zero_division=0)\n",
        "\n",
        "    print(f\"Accuracy  | {acc:.3f}\")\n",
        "    print(f\"Precision | {prec:.3f}\")\n",
        "    print(f\"Recall    | {rec:.3f}\")\n",
        "    print(f\"F1 Score  | {f1:.3f}\")\n",
        "\n",
        "    return prec, rec, acc, f1, measures"
      ]
    },
    {
      "cell_type": "markdown",
      "id": "Pyl2BXW3X-L1",
      "metadata": {
        "id": "Pyl2BXW3X-L1"
      },
      "source": [
        "### Comparing different values for noise and clipping"
      ]
    },
    {
      "cell_type": "code",
      "execution_count": null,
      "id": "rADBEO_nZIlj",
      "metadata": {
        "colab": {
          "base_uri": "https://localhost:8080/"
        },
        "id": "rADBEO_nZIlj",
        "outputId": "afb2aec1-e0cf-45e0-f5b5-cc006d4c1a7b"
      },
      "outputs": [
        {
          "name": "stderr",
          "output_type": "stream",
          "text": [
            "100%|██████████| 938/938 [00:33<00:00, 27.92it/s]\n"
          ]
        },
        {
          "name": "stdout",
          "output_type": "stream",
          "text": [
            "Accuracy  | 0.950\n",
            "Precision | 0.952\n",
            "Recall    | 0.950\n",
            "F1 Score  | 0.947\n"
          ]
        },
        {
          "name": "stderr",
          "output_type": "stream",
          "text": [
            "100%|██████████| 938/938 [00:34<00:00, 27.44it/s]\n"
          ]
        },
        {
          "name": "stdout",
          "output_type": "stream",
          "text": [
            "Accuracy  | 0.985\n",
            "Precision | 0.985\n",
            "Recall    | 0.985\n",
            "F1 Score  | 0.985\n"
          ]
        },
        {
          "name": "stderr",
          "output_type": "stream",
          "text": [
            "100%|██████████| 938/938 [00:31<00:00, 29.60it/s]\n"
          ]
        },
        {
          "name": "stdout",
          "output_type": "stream",
          "text": [
            "Accuracy  | 0.985\n",
            "Precision | 0.985\n",
            "Recall    | 0.985\n",
            "F1 Score  | 0.985\n"
          ]
        },
        {
          "name": "stderr",
          "output_type": "stream",
          "text": [
            "100%|██████████| 938/938 [00:32<00:00, 28.95it/s]\n"
          ]
        },
        {
          "name": "stdout",
          "output_type": "stream",
          "text": [
            "Accuracy  | 0.989\n",
            "Precision | 0.989\n",
            "Recall    | 0.988\n",
            "F1 Score  | 0.988\n"
          ]
        },
        {
          "name": "stderr",
          "output_type": "stream",
          "text": [
            "100%|██████████| 938/938 [00:33<00:00, 28.30it/s]\n"
          ]
        },
        {
          "name": "stdout",
          "output_type": "stream",
          "text": [
            "Accuracy  | 0.990\n",
            "Precision | 0.989\n",
            "Recall    | 0.989\n",
            "F1 Score  | 0.989\n"
          ]
        }
      ],
      "source": [
        "def run_experiments(noise_list, clip_list, epochs=5, delta=1e-5, device=\"cpu\"):\n",
        "    \"\"\"\n",
        "    Vary noise_multiplier and max_grad_norm, collect final loss & ε.\n",
        "    Returns a DataFrame with columns [noise, clip, epoch, loss, epsilon].\n",
        "    \"\"\"\n",
        "    records = []\n",
        "    test_records = []\n",
        "    for noise in noise_list:\n",
        "        for clip in clip_list:\n",
        "            model = torch.nn.Sequential(torch.nn.Conv2d(1, 16, 8, 2, padding=3), torch.nn.ReLU(), torch.nn.MaxPool2d(2, 1),\n",
        "              torch.nn.Conv2d(16, 32, 4, 2),  torch.nn.ReLU(), torch.nn.MaxPool2d(2, 1), torch.nn.Flatten(),\n",
        "              torch.nn.Linear(32 * 4 * 4, 32), torch.nn.ReLU(), torch.nn.Linear(32, 10)).to(device)\n",
        "\n",
        "            opt = torch.optim.SGD(model.parameters(), lr=0.05)\n",
        "            pe = PrivacyEngine()\n",
        "\n",
        "            batch_size = train_loader.batch_size\n",
        "            sample_rate = batch_size / len(train_loader.dataset)\n",
        "\n",
        "            model_priv, optimizer_priv, loader = pe.make_private(\n",
        "                sample_rate = sample_rate,\n",
        "                module=model,\n",
        "                optimizer=opt,\n",
        "                data_loader=train_loader,\n",
        "                noise_multiplier=noise,\n",
        "                max_grad_norm=clip,\n",
        "            )\n",
        "            for ep in range(1, epochs+1):\n",
        "                eps, loss = train_opacus(model_priv, pe,loader, optimizer_priv, ep, device, delta)\n",
        "                records.append({\n",
        "                    \"noise\": noise,\n",
        "                    \"clip\": clip,\n",
        "                    \"epoch\": ep,\n",
        "                    \"loss\": loss,\n",
        "                    \"epsilon\": eps,\n",
        "                })\n",
        "                prec, rec, acc, f1, measures = validate(model_priv, test_loader)\n",
        "                test_records.append({\n",
        "                    \"noise\":noise,\n",
        "                    \"clip\":clip,\n",
        "                    \"precision\": prec,\n",
        "                    \"recall\":rec,\n",
        "                    \"accuracy\":acc,\n",
        "                    \"f1\":f1,\n",
        "                    \"epoch\":ep\n",
        "                })\n",
        "    return pd.DataFrame(records), pd.DataFrame(test_records)\n",
        "\n",
        "def run_base(epochs=5, device=\"cpu\"):\n",
        "    \"\"\"\n",
        "    Vary noise_multiplier and max_grad_norm, collect final loss & ε.\n",
        "    Returns a DataFrame with columns [noise, clip, epoch, loss, epsilon].\n",
        "    \"\"\"\n",
        "    records = []\n",
        "    test_records = []\n",
        "    model = torch.nn.Sequential(torch.nn.Conv2d(1, 16, 8, 2, padding=3), torch.nn.ReLU(), torch.nn.MaxPool2d(2, 1),\n",
        "      torch.nn.Conv2d(16, 32, 4, 2),  torch.nn.ReLU(), torch.nn.MaxPool2d(2, 1), torch.nn.Flatten(),\n",
        "      torch.nn.Linear(32 * 4 * 4, 32), torch.nn.ReLU(), torch.nn.Linear(32, 10)).to(device)\n",
        "\n",
        "    opt = torch.optim.SGD(model.parameters(), lr=0.05)\n",
        "\n",
        "    for ep in range(1, epochs+1):\n",
        "        loss = train(model, train_loader, opt, ep, device)\n",
        "        records.append({\n",
        "            \"epoch\": ep,\n",
        "            \"loss\": loss,\n",
        "        })\n",
        "        prec, rec, acc, f1, measures = validate(model, test_loader)\n",
        "        test_records.append({\n",
        "            \"precision\": prec,\n",
        "            \"recall\":rec,\n",
        "            \"accuracy\":acc,\n",
        "            \"f1\":f1,\n",
        "            \"epoch\":ep\n",
        "        })\n",
        "    return pd.DataFrame(records), pd.DataFrame(test_records)\n",
        "\n",
        "noises = [0.5, 1.0, 1.5, 2.0]\n",
        "clips  = [0.5, 1.0, 2.0]\n",
        "df_train, df_test = run_experiments(noises, clips, epochs = 5, device = device)\n",
        "df_train_base, df_test_base = run_base(device = device)"
      ]
    },
    {
      "cell_type": "markdown",
      "id": "nayIIRTCXu9y",
      "metadata": {
        "id": "nayIIRTCXu9y"
      },
      "source": [
        "### Save to directory for visualization"
      ]
    },
    {
      "cell_type": "code",
      "execution_count": null,
      "id": "YKOjPfpTrLsg",
      "metadata": {
        "collapsed": true,
        "id": "YKOjPfpTrLsg"
      },
      "outputs": [],
      "source": [
        "drive.mount('/content/drive')\n",
        "\n",
        "save_dir = '/content/drive/MyDrive/colab_results'\n",
        "os.makedirs(save_dir, exist_ok=True)\n",
        "\n",
        "df_train_base.to_csv(os.path.join(save_dir, 'train_results_base.csv'),    index=False)\n",
        "df_test_base.to_csv(os.path.join(save_dir, 'validation_results_base.csv'), index=False)"
      ]
    }
  ],
  "metadata": {
    "colab": {
      "provenance": []
    },
    "kernelspec": {
      "display_name": ".venv",
      "language": "python",
      "name": "python3"
    },
    "language_info": {
      "name": "python",
      "version": "3.13.3"
    }
  },
  "nbformat": 4,
  "nbformat_minor": 5
}
